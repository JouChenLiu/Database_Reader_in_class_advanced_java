{
  "nbformat": 4,
  "nbformat_minor": 0,
  "metadata": {
    "colab": {
      "provenance": [],
      "collapsed_sections": [],
      "mount_file_id": "15NxHaMv942IQgG6eLNySfXnkzlzAw2Jn",
      "authorship_tag": "ABX9TyNu12nmIi/sb5UncM5aJlW+",
      "include_colab_link": true
    },
    "kernelspec": {
      "name": "python3",
      "display_name": "Python 3"
    },
    "language_info": {
      "name": "python"
    }
  },
  "cells": [
    {
      "cell_type": "markdown",
      "metadata": {
        "id": "view-in-github",
        "colab_type": "text"
      },
      "source": [
        "<a href=\"https://colab.research.google.com/github/JouChenLiu/Database_Reader_in_class_advanced_java/blob/main/HW2_108403501.ipynb\" target=\"_parent\"><img src=\"https://colab.research.google.com/assets/colab-badge.svg\" alt=\"Open In Colab\"/></a>"
      ]
    },
    {
      "cell_type": "markdown",
      "source": [
        "[Homework 2 (Intro to DS) 2022-10-23 - Google 文件](https://docs.google.com/document/d/1j7KCZJbAkyU6UhzEh3EpBNLLZorjpioGHMBY_ecySUY/edit#)\n"
      ],
      "metadata": {
        "id": "DR-o_go3bPiz"
      }
    },
    {
      "cell_type": "markdown",
      "source": [
        "## Probability"
      ],
      "metadata": {
        "id": "k_eM2Cnkbg41"
      }
    },
    {
      "cell_type": "markdown",
      "source": [
        "### ● I have 2 kids.  Given that one of them is a boy.  What is the probability that both are boys?  (10 points)\n",
        "\n"
      ],
      "metadata": {
        "id": "XiEi3QiYb01T"
      }
    },
    {
      "cell_type": "markdown",
      "source": [
        "ANS: 1/2\n",
        "> Assume that kid is either a boy or a girl, with a 50/50 chance of each.<br>\n",
        "The probability that each kid is a boy is 1/2.<br>\n",
        "Given that one of them is a boy, that is, the probability that one of them is a boy is 1.<br>\n",
        "So, the probability that both are boys is 1 * 1/2 = **1/2**. #\n"
      ],
      "metadata": {
        "id": "pxYIqwE8cEYm"
      }
    },
    {
      "cell_type": "markdown",
      "source": [
        "### ● A fair six-sided die is rolled twice.  What is the probability of getting 2 on the first roll and not getting 4 on the second roll?  (10 points)"
      ],
      "metadata": {
        "id": "fdURCugpcAWm"
      }
    },
    {
      "cell_type": "markdown",
      "source": [
        "ANS: 5/36\n",
        "> A fair six-sided die means the possibility of getting any one of the possible events is 1/6.<br>\n",
        "Because the first roll of the die is independent of the second roll, the probabilities can be  multiplied directly.<br>\n",
        "The probability of getting 2 = 1/6.<br>\n",
        "The probability of not getting 4 = 5/6.<br>\n",
        "So, the probability of getting 2 on the first roll and not getting 4 on the second roll is 1/6 * 5/6 = **5/36**. #"
      ],
      "metadata": {
        "id": "f5CZDZKKfnPd"
      }
    },
    {
      "cell_type": "markdown",
      "source": [
        "## Python programming"
      ],
      "metadata": {
        "id": "9c6eoDVZhV4m"
      }
    },
    {
      "cell_type": "markdown",
      "source": [
        "### ● Write a function that takes in a string and determines whether it is a palindrome. Ignore casing, punctuation, and spaces. (30 points)\n",
        "1.\t“palindrome” is a word, phrase, or sequence that reads the same backward as forward\n",
        "2.\tEx: “aaabbaaa” - True\n",
        "3.\tEx: “Mr. Owl ate my metal worm” - True\n",
        "4.\tEx: “abcd” - False\n"
      ],
      "metadata": {
        "id": "m2Ibf2GrhYjm"
      }
    },
    {
      "cell_type": "code",
      "execution_count": 11,
      "metadata": {
        "id": "ZmA8fm3arvTu",
        "colab": {
          "base_uri": "https://localhost:8080/"
        },
        "outputId": "daee4004-83a3-431e-b4a1-334ef0830516"
      },
      "outputs": [
        {
          "output_type": "stream",
          "name": "stdout",
          "text": [
            "input: aaabbaaa\n",
            "True\n",
            "input: Mr. Owl ate my metal worm\n",
            "True\n",
            "input: abcd\n",
            "False\n"
          ]
        }
      ],
      "source": [
        "def isPalindrome(s):\n",
        "  s = s.lower()       #轉成小寫\n",
        "  s = s.replace(' ', '')  #刪除空白\n",
        "  x = list(s)         #刪除標點符號\n",
        "  for i in range(len(s)):\n",
        "    if (not(x[i] >= 'a' and x[i] <= 'z')):\n",
        "      x[i] = ''\n",
        "  s1 = ''.join(x)\n",
        "  s2 = s1[::-1]       #將整理過的string反轉，方便比較\n",
        "  return True if s1 == s2 else False\n",
        "\n",
        "EX1 = input(\"input: \")\n",
        "if (isPalindrome(EX1)):\n",
        "  print(\"True\")\n",
        "else:\n",
        "  print(\"False\")\n",
        "\n",
        "EX2 = input(\"input: \")\n",
        "if (isPalindrome(EX2)):\n",
        "  print(\"True\")\n",
        "else:\n",
        "  print(\"False\")\n",
        "\n",
        "EX3 = input(\"input: \")\n",
        "if (isPalindrome(EX3)):\n",
        "  print(\"True\")\n",
        "else:\n",
        "  print(\"False\")"
      ]
    },
    {
      "cell_type": "markdown",
      "source": [
        "## Monte Carlo Simulation"
      ],
      "metadata": {
        "id": "TGxd85XIicOV"
      }
    },
    {
      "cell_type": "markdown",
      "source": [
        "### ● [Roulette](https://en.wikipedia.org/wiki/Roulette) is a [casino](https://en.wikipedia.org/wiki/Casino) game.  For simplicity, we only allow betting on numbers.  One number at a time.  The following is such a Python implementation.  Let’s bet $1 on pocket number 7.\n",
        "1.\tPlease complete the expectedReturn (the statement located in the next to the last line). (20 points)\n",
        "2.\tPlease report out the simulation results after completing the expectedReturn. (15 points)\n",
        "3.\tPlease calculate the analytical answer of the expected return. (15 points)\n"
      ],
      "metadata": {
        "id": "-zM8rptgidoN"
      }
    },
    {
      "cell_type": "markdown",
      "source": [
        "```\n",
        "import random\n",
        "\n",
        "class MyRoulette():\n",
        "    def __init__(self):\n",
        "        self.pockets = []\n",
        "        for i in range(1, 37):\n",
        "            self.pockets.append(i)\n",
        "        self.ball = None\n",
        "        self.pocketOdds = len(self.pockets) - 1\n",
        "    def spin(self):\n",
        "        self.ball = random.choice(self.pockets)\n",
        "    def betPocket(self, pocket, amt):\n",
        "        if str(pocket) == str(self.ball):\n",
        "            return amt*self.pocketOdds\n",
        "        else: return -amt\n",
        "    def __str__(self):\n",
        "        return 'My Roulette'\n",
        "\n",
        "def playRoulette(game, numSpins, pocket, bet, toPrint):\n",
        "    totPocket = 0\n",
        "    for i in range(numSpins):\n",
        "        game.spin()\n",
        "        totPocket += game.betPocket(pocket, bet)\n",
        "    if toPrint:\n",
        "        print(numSpins, 'spins of', game)\n",
        "        print('Expected return betting', pocket, '=',\\\n",
        "              str(100*totPocket/numSpins) + '%\\n')\n",
        "    return (totPocket/numSpins)\n",
        "\n",
        "def findPocketReturn(game, numTrials, trialSize, toPrint, pocket, bet):\n",
        "    pocketReturns = []\n",
        "    for t in range(numTrials):\n",
        "        trialVals = playRoulette(game, trialSize, pocket, bet, toPrint)\n",
        "        pocketReturns.append(trialVals)\n",
        "    return pocketReturns\n",
        "\n",
        "# Monte Carlo simulation begins.\n",
        "random.seed(0)\n",
        "numTrials = 20\n",
        "# Instantiate the Roulette game. \n",
        "game = MyRoulette()\n",
        "myPocket = 7\n",
        "myBet = 1\n",
        "for numSpins in (1000, 10000, 100000, 1000000):\n",
        "    print('\\nSimulate', numTrials, 'trials of', numSpins, 'spins each')\n",
        "    # The list of my simulation results.\n",
        "    pocketReturns = findPocketReturn(game, numTrials, numSpins, False, myPocket, myBet)\n",
        "    # Please implement the following one-liner, the expected return.\n",
        "    expReturn =   \n",
        "    print('Exp. return for', game, '=', str(round(expReturn, 4)) + '%')\n",
        "```"
      ],
      "metadata": {
        "id": "b0f3v-NwivZh"
      }
    }
  ]
}